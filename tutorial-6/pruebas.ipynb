{
 "cells": [
  {
   "cell_type": "code",
   "execution_count": 3,
   "metadata": {},
   "outputs": [],
   "source": [
    "import numpy as np"
   ]
  },
  {
   "cell_type": "code",
   "execution_count": 146,
   "metadata": {
    "scrolled": true
   },
   "outputs": [
    {
     "name": "stdout",
     "output_type": "stream",
     "text": [
      "[[ 0.          0.          0.        ]\n",
      " [ 0.90175439  0.17774573 -0.03533339]\n",
      " [ 0.83141794  0.28221457 -0.06589712]\n",
      " [ 0.79513126  0.34869885 -0.09263406]]\n"
     ]
    }
   ],
   "source": [
    "X = np.array([[1,2,3],\n",
    "             [2,5,6],\n",
    "             [3,8,9],\n",
    "             [4,1,1],\n",
    "             [5,2,1],\n",
    "             [6,2,4],\n",
    "             [7,2,3],\n",
    "             [8,6,3],\n",
    "             [9,2,3]])\n",
    "y = np.array([1,3,4,5,6,7,8,9,2])\n",
    "\n",
    "beta = np.zeros(X.shape[1])\n",
    "betas_array= []\n",
    "betas_a= []\n",
    "historico = []\n",
    "historico.append(beta.copy())\n",
    "for _ in range(3):\n",
    "    for i in range(len(X.T)):\n",
    "        X_n = X.T[i]\n",
    "        X_n = np.reshape(X_n, (len(X_n), 1))\n",
    "        betas_xi = np.delete(beta, i, axis=0)\n",
    "        X_m = np.delete(X.T, i, axis=0)\n",
    "        betas_new = ((y - X_m.T@betas_xi).T@X_n / np.dot(X_n.T, X_n))\n",
    "        beta[i] = betas_new\n",
    "    #tengo que poner que beta a final de la iteracción es igual a algo y al inicio volver a poner que beta es igual a ese algo anterior\n",
    "    historico.append(beta.copy())\n",
    "historico = np.array(historico)\n",
    "print(historico)\n",
    "\n",
    "\n",
    "  \n"
   ]
  },
  {
   "cell_type": "code",
   "execution_count": 147,
   "metadata": {},
   "outputs": [
    {
     "name": "stdout",
     "output_type": "stream",
     "text": [
      "[0.         0.90175439 0.83141794 0.79513126]\n"
     ]
    },
    {
     "data": {
      "image/png": "[encoded data removed]",
      "text/plain": [
       "<Figure size 432x288 with 1 Axes>"
      ]
     },
     "metadata": {
      "needs_background": "light"
     },
     "output_type": "display_data"
    }
   ],
   "source": [
    "print(historico[:, 0])\n",
    "plt.plot(range(4), historico[:,0], 'r')\n",
    "plt.plot(range(4), historico[:,1], 'r')\n",
    "plt.plot(range(4), historico[:,2], 'r')\n",
    "\n",
    "plt.show()"
   ]
  },
  {
   "cell_type": "code",
   "execution_count": 148,
   "metadata": {},
   "outputs": [
    {
     "data": {
      "image/png": "[encoded data removed]",
      "text/plain": [
       "<Figure size 432x288 with 1 Axes>"
      ]
     },
     "metadata": {
      "needs_background": "light"
     },
     "output_type": "display_data"
    }
   ],
   "source": [
    "for i in range(historico.shape[1]):\n",
    "    plt.plot(range(4), historico[:,i], 'r')"
   ]
  },
  {
   "cell_type": "markdown",
   "metadata": {},
   "source": [
    "# EJERCICIO QUE FUNCIONA: COORDINATE DESCENT"
   ]
  },
  {
   "cell_type": "code",
   "execution_count": 151,
   "metadata": {},
   "outputs": [
    {
     "name": "stdout",
     "output_type": "stream",
     "text": [
      "[[ 0.          0.          0.        ]\n",
      " [ 0.90175439  0.17774573 -0.03533339]\n",
      " [ 0.83141794  0.28221457 -0.06589712]\n",
      " [ 0.79513126  0.34869885 -0.09263406]]\n"
     ]
    }
   ],
   "source": [
    "beta = np.zeros(X.shape[1])\n",
    "#beta = np.reshape(beta, (len(beta),1))\n",
    "betas_array= []\n",
    "betas_a= []\n",
    "historico = []\n",
    "historico.append(beta.copy())\n",
    "for _ in range(3):\n",
    "    for i in range(len(X.T)):\n",
    "        X_n = X.T[i]\n",
    "        X_n = np.reshape(X_n, (len(X_n), 1))\n",
    "        betas_xi = np.delete(beta, i, axis=0)\n",
    "        X_m = np.delete(X.T, i, axis=0)\n",
    "        betas_new = ((y - X_m.T@betas_xi).T@X_n / np.dot(X_n.T, X_n))\n",
    "        beta[i] = betas_new\n",
    "    #tengo que poner que beta a final de la iteracción es igual a algo y al inicio volver a poner que beta es igual a ese algo anterior\n",
    "    historico.append(beta.copy())\n",
    "historico = np.array(historico)\n",
    "print(historico)"
   ]
  },
  {
   "cell_type": "code",
   "execution_count": null,
   "metadata": {},
   "outputs": [],
   "source": [
    "beta = np.zeros(X.shape[1])\n",
    "beta = np.reshape(beta, (len(beta),1))\n",
    "betas_array= []\n",
    "betas_a= []\n",
    "historico = []\n",
    "historico.append(beta.copy())\n",
    "for _ in range(100):\n",
    "    for i in range(len(X.T)):\n",
    "        X_n = X.T[i]\n",
    "        X_n = np.reshape(X_n, (len(X_n), 1))\n",
    "        betas_xi = np.delete(beta, i, axis=0)\n",
    "        X_m = np.delete(X.T, i, axis=0)\n",
    "        betas_new = ((y - X_m.T@betas_xi).T@X_n / np.dot(X_n.T, X_n))\n",
    "        beta[i] = betas_new\n",
    "    #tengo que poner que beta a final de la iteracción es igual a algo y al inicio volver a poner que beta es igual a ese algo anterior\n",
    "    historico.append(beta.copy())\n",
    "historico = np.array(historico)\n",
    "print(historico)"
   ]
  },
  {
   "cell_type": "code",
   "execution_count": null,
   "metadata": {},
   "outputs": [],
   "source": [
    "fig= plt.figure(figsize=(15,10))\n",
    "plt.plot(range(101), historico[:,0], 'r', color=\"red\", label='Beta 0')\n",
    "plt.plot(range(101), historico[:,1], 'r', color=\"blue\", label='Beta 1')\n",
    "plt.plot(range(101), historico[:,2], 'r', color=\"gray\", label='Beta 2')\n",
    "plt.plot(range(101), historico[:,3], 'r', color=\"yellow\", label='Beta 3')\n",
    "plt.plot(range(101), historico[:,4], 'r', color=\"green\", label='Beta 4')\n",
    "plt.plot(range(101), historico[:,5], 'r', color=\"black\", label='Beta 5')\n",
    "plt.plot(range(101), historico[:,6], 'r', color=\"brown\", label='Beta 6')\n",
    "plt.plot(range(101), historico[:,7], 'r', color=\"pink\", label='Beta 7')\n",
    "plt.plot(range(101), historico[:,8], 'r', color=\"purple\", label='Beta 8')\n",
    "plt.plot(range(101), historico[:,9], 'r', color=\"#8EBA42\", label='Beta 9')\n",
    "plt.plot(range(101), historico[:,10], 'r', color=\"#E24A33\", label='Beta 10')\n",
    "plt.plot(range(101), historico[:,11], 'r', color=\"#bfbbd9\", label='Beta 11')\n",
    "plt.legend(bbox_to_anchor=(1.25, 1),loc = 'upper right', borderaxespad=0)\n",
    "plt.show()"
   ]
  },
  {
   "cell_type": "code",
   "execution_count": 4,
   "metadata": {},
   "outputs": [
    {
     "data": {
      "text/plain": [
       "array([[ 1,  1,  1],\n",
       "       [ 1,  1, -1],\n",
       "       [ 1, -1,  0],\n",
       "       [ 1, -1, -1]])"
      ]
     },
     "execution_count": 4,
     "metadata": {},
     "output_type": "execute_result"
    }
   ],
   "source": [
    "X = np.array([[1,1,1],\n",
    "             [1,1,-1],\n",
    "             [1,-1,0],\n",
    "             [1,-1,-1]])\n",
    "y = np.array([[1.4],\n",
    "              [1.6],\n",
    "              [0.5],\n",
    "              [0.6]])\n",
    "X"
   ]
  },
  {
   "cell_type": "code",
   "execution_count": 195,
   "metadata": {},
   "outputs": [],
   "source": [
    "def coordinate_descent(X, y, beta, lambdas):\n",
    "    for _ in range(2):\n",
    "        for i in range(len(X.T)):\n",
    "            X_n = X.T[i]\n",
    "            X_n = np.reshape(X_n, (len(X_n), 1))\n",
    "            betas_xi = np.delete(beta, i, axis=0)\n",
    "            X_m = np.delete(X.T, i, axis=0)\n",
    "            betas = ((y - X_m.T@betas_xi).T@X_n / np.dot(X_n.T, X_n))\n",
    "            print(betas)\n",
    "            error = (1*(1/2) / np.dot(X_n.T, X_n))\n",
    "            if betas > error:\n",
    "                betas_new = betas - error #no utilziar todas las betas sino solamente el par\n",
    "            elif abs(betas) <= error:\n",
    "                betas_new = 0\n",
    "            elif betas < -e:\n",
    "                betas_new =  betas + error\n",
    "            beta[i] = betas_new\n",
    "        historico.append(beta.copy())\n",
    "    historico = np.array(historico)"
   ]
  },
  {
   "cell_type": "code",
   "execution_count": 196,
   "metadata": {},
   "outputs": [
    {
     "name": "stdout",
     "output_type": "stream",
     "text": [
      "[[5.6]\n",
      " [6.4]\n",
      " [2. ]\n",
      " [2.4]]\n"
     ]
    },
    {
     "ename": "ValueError",
     "evalue": "The truth value of an array with more than one element is ambiguous. Use a.any() or a.all()",
     "output_type": "error",
     "traceback": [
      "\u001b[0;31m---------------------------------------------------------------------------\u001b[0m",
      "\u001b[0;31mValueError\u001b[0m                                Traceback (most recent call last)",
      "\u001b[0;32m<ipython-input-196-8b24c83620d7>\u001b[0m in \u001b[0;36m<module>\u001b[0;34m\u001b[0m\n\u001b[1;32m      6\u001b[0m \u001b[0mhistorico\u001b[0m\u001b[0;34m.\u001b[0m\u001b[0mappend\u001b[0m\u001b[0;34m(\u001b[0m\u001b[0mbeta\u001b[0m\u001b[0;34m.\u001b[0m\u001b[0mcopy\u001b[0m\u001b[0;34m(\u001b[0m\u001b[0;34m)\u001b[0m\u001b[0;34m)\u001b[0m\u001b[0;34m\u001b[0m\u001b[0;34m\u001b[0m\u001b[0m\n\u001b[1;32m      7\u001b[0m \u001b[0;34m\u001b[0m\u001b[0m\n\u001b[0;32m----> 8\u001b[0;31m \u001b[0ma\u001b[0m\u001b[0;34m,\u001b[0m \u001b[0mb\u001b[0m \u001b[0;34m=\u001b[0m \u001b[0mcoordinate_descent\u001b[0m\u001b[0;34m(\u001b[0m\u001b[0mX\u001b[0m\u001b[0;34m,\u001b[0m \u001b[0my\u001b[0m\u001b[0;34m,\u001b[0m \u001b[0mbeta\u001b[0m\u001b[0;34m,\u001b[0m \u001b[0;36m1\u001b[0m\u001b[0;34m,\u001b[0m \u001b[0;36m0\u001b[0m\u001b[0;34m)\u001b[0m\u001b[0;34m\u001b[0m\u001b[0;34m\u001b[0m\u001b[0m\n\u001b[0m\u001b[1;32m      9\u001b[0m \u001b[0mprint\u001b[0m\u001b[0;34m(\u001b[0m\u001b[0ma\u001b[0m\u001b[0;34m)\u001b[0m\u001b[0;34m\u001b[0m\u001b[0;34m\u001b[0m\u001b[0m\n",
      "\u001b[0;32m<ipython-input-195-786903276b36>\u001b[0m in \u001b[0;36mcoordinate_descent\u001b[0;34m(X, y, beta, lambdas, parameter)\u001b[0m\n\u001b[1;32m      9\u001b[0m             \u001b[0mprint\u001b[0m\u001b[0;34m(\u001b[0m\u001b[0mbetas_new\u001b[0m\u001b[0;34m)\u001b[0m\u001b[0;34m\u001b[0m\u001b[0;34m\u001b[0m\u001b[0m\n\u001b[1;32m     10\u001b[0m             \u001b[0merror\u001b[0m \u001b[0;34m=\u001b[0m \u001b[0;34m(\u001b[0m\u001b[0mparameter\u001b[0m\u001b[0;34m*\u001b[0m\u001b[0;34m(\u001b[0m\u001b[0;36m1\u001b[0m\u001b[0;34m/\u001b[0m\u001b[0;36m2\u001b[0m\u001b[0;34m)\u001b[0m \u001b[0;34m/\u001b[0m \u001b[0mnp\u001b[0m\u001b[0;34m.\u001b[0m\u001b[0mdot\u001b[0m\u001b[0;34m(\u001b[0m\u001b[0mX_n\u001b[0m\u001b[0;34m.\u001b[0m\u001b[0mT\u001b[0m\u001b[0;34m,\u001b[0m \u001b[0mX_n\u001b[0m\u001b[0;34m)\u001b[0m\u001b[0;34m)\u001b[0m\u001b[0;34m\u001b[0m\u001b[0;34m\u001b[0m\u001b[0m\n\u001b[0;32m---> 11\u001b[0;31m             \u001b[0;32mif\u001b[0m \u001b[0mbetas_new\u001b[0m \u001b[0;34m>\u001b[0m \u001b[0merror\u001b[0m\u001b[0;34m:\u001b[0m\u001b[0;34m\u001b[0m\u001b[0;34m\u001b[0m\u001b[0m\n\u001b[0m\u001b[1;32m     12\u001b[0m                 \u001b[0mparameter\u001b[0m \u001b[0;34m=\u001b[0m \u001b[0;34m-\u001b[0m \u001b[0;34m(\u001b[0m\u001b[0;34m(\u001b[0m\u001b[0;36m1\u001b[0m\u001b[0;34m/\u001b[0m\u001b[0;36m2\u001b[0m\u001b[0;34m)\u001b[0m\u001b[0;34m*\u001b[0m\u001b[0mlambdas\u001b[0m\u001b[0;34m)\u001b[0m \u001b[0;31m#no utilziar todas las betas sino solamente el par\u001b[0m\u001b[0;34m\u001b[0m\u001b[0;34m\u001b[0m\u001b[0m\n\u001b[1;32m     13\u001b[0m             \u001b[0;32melif\u001b[0m \u001b[0mabs\u001b[0m\u001b[0;34m(\u001b[0m\u001b[0mbetas_new\u001b[0m\u001b[0;34m)\u001b[0m \u001b[0;34m<=\u001b[0m \u001b[0merror\u001b[0m\u001b[0;34m:\u001b[0m\u001b[0;34m\u001b[0m\u001b[0;34m\u001b[0m\u001b[0m\n",
      "\u001b[0;31mValueError\u001b[0m: The truth value of an array with more than one element is ambiguous. Use a.any() or a.all()"
     ]
    }
   ],
   "source": [
    "beta = np.zeros(X.shape[1])\n",
    "beta = np.reshape(beta, (len(beta),1))\n",
    "betas_array= []\n",
    "betas_a= []\n",
    "historico = []\n",
    "historico.append(beta.copy())\n",
    "\n",
    "a, b = coordinate_descent(X, y, beta, 1, 0)\n",
    "print(a)"
   ]
  },
  {
   "cell_type": "code",
   "execution_count": 339,
   "metadata": {},
   "outputs": [
    {
     "name": "stdout",
     "output_type": "stream",
     "text": [
      "[[0.9]\n",
      " [0. ]\n",
      " [0. ]]\n",
      "[[0.9 ]\n",
      " [0.35]\n",
      " [0.  ]]\n",
      "[[0.9 ]\n",
      " [0.35]\n",
      " [0.  ]]\n",
      "[[0.9 ]\n",
      " [0.35]\n",
      " [0.  ]]\n",
      "[[0.9 ]\n",
      " [0.35]\n",
      " [0.  ]]\n",
      "[[0.9 ]\n",
      " [0.35]\n",
      " [0.  ]]\n",
      "[[0.9 ]\n",
      " [0.35]\n",
      " [0.  ]]\n",
      "[[0.9 ]\n",
      " [0.35]\n",
      " [0.  ]]\n",
      "[[0.9 ]\n",
      " [0.35]\n",
      " [0.  ]]\n"
     ]
    }
   ],
   "source": [
    "def function(X, y, beta):\n",
    "    function = (np.dot((y - X@beta).T,(y - X@beta)) + (1*(1/2))) / np.dot(X_n.T, X_n)\n",
    "    return function\n",
    "\n",
    "beta = np.zeros(X.shape[1])\n",
    "beta = np.reshape(beta, (len(beta),1))\n",
    "betas_array= []\n",
    "betas_a= []\n",
    "historico = []\n",
    "historico.append(beta.copy())\n",
    "for _ in range(3):\n",
    "    for i in range(len(X.T)):\n",
    "        X_n = X.T[i]\n",
    "        X_n = np.reshape(X_n, (len(X_n), 1))\n",
    "        betas_xi = np.delete(beta, i, axis=0)\n",
    "        X_m = np.delete(X.T, i, axis=0)\n",
    "        betas = ((y - X_m.T@betas_xi).T@X_n / np.dot(X_n.T, X_n))\n",
    "        error = (1*(1/2) / np.dot(X_n.T, X_n))\n",
    "        if betas > error:\n",
    "            betas_new = betas - error #no utilziar todas las betas sino solamente el par\n",
    "        elif abs(betas) <= error:\n",
    "            betas_new = 0\n",
    "        elif betas < -e:\n",
    "            betas_new =  betas + error\n",
    "        beta[i] = betas_new\n",
    "    beta_end = beta\n",
    "    historico.append(beta.copy())\n",
    "\n",
    "\n",
    "\n"
   ]
  },
  {
   "cell_type": "code",
   "execution_count": null,
   "metadata": {},
   "outputs": [],
   "source": [
    "def function(X, y, beta):\n",
    "    function = (np.dot((y - X@beta).T,(y - X@beta)) + (1*(1/2))) / np.dot(X_n.T, X_n)\n",
    "    return function\n",
    "\n",
    "beta = np.zeros(X.shape[1])\n",
    "beta = np.reshape(beta, (len(beta),1))\n",
    "betas_array= []\n",
    "betas_a= []\n",
    "historico = []\n",
    "historico.append(beta.copy())\n",
    "for _ in range(100):\n",
    "    for i in range(len(X.T)):\n",
    "        X_n = X.T[i]\n",
    "        X_n = np.reshape(X_n, (len(X_n), 1))\n",
    "        betas_xi = np.delete(beta, i, axis=0)\n",
    "        X_m = np.delete(X.T, i, axis=0)\n",
    "        betas = ((y - X_m.T@betas_xi).T@X_n / np.dot(X_n.T, X_n))\n",
    "        error = (1*(1/2) / np.dot(X_n.T, X_n))\n",
    "        if betas > error:\n",
    "            betas_new = betas - error #no utilziar todas las betas sino solamente el par\n",
    "        elif abs(betas) <= error:\n",
    "            betas_new = 0\n",
    "        elif betas < -e:\n",
    "            betas_new =  betas + error\n",
    "        beta[i] = betas_new\n",
    "    beta_end = beta\n",
    "    historico.append(beta.copy())\n",
    "    if function(X, y, historico[-2]) - function(X, y, historico[-1]) < 0.0001:\n",
    "        print(function(X, y, beta_old), function(X, y, beta_end))\n",
    "    else:\n",
    "        print('Not converged in max number of iterations')\n",
    "        break\n",
    "\n",
    "\n",
    "\n"
   ]
  },
  {
   "cell_type": "code",
   "execution_count": 347,
   "metadata": {},
   "outputs": [],
   "source": [
    "def coordinate_descent(X, y, beta, parameter): \n",
    "    for _ in range(2):\n",
    "        for i in range(len(X.T)):\n",
    "            X_n = X.T[i]\n",
    "            X_n = np.reshape(X_n, (len(X_n), 1))\n",
    "            betas_xi = np.delete(beta, i, axis=0)\n",
    "            X_m = np.delete(X.T, i, axis=0)\n",
    "            betas = ((y - X_m.T@betas_xi).T@X_n / np.dot(X_n.T, X_n))\n",
    "            error = (parameter*(1/2) / np.dot(X_n.T, X_n))\n",
    "            if betas > error:\n",
    "                betas_new = betas - error #no utilziar todas las betas sino solamente el par\n",
    "            elif abs(betas) <= error:\n",
    "                betas_new = 0\n",
    "            elif betas < -e:\n",
    "                betas_new =  betas + error\n",
    "            beta[i] = betas_new\n",
    "        historico.append(beta.copy())\n",
    "    return beta, historico"
   ]
  },
  {
   "cell_type": "code",
   "execution_count": 348,
   "metadata": {},
   "outputs": [
    {
     "name": "stdout",
     "output_type": "stream",
     "text": [
      "[[0.9 ]\n",
      " [0.35]\n",
      " [0.  ]]\n"
     ]
    }
   ],
   "source": [
    "a,b = coordinate_descent(X, y, beta, 1)\n",
    "print(a)"
   ]
  },
  {
   "cell_type": "markdown",
   "metadata": {},
   "source": [
    "PRUEBAS PARA RIDGE EJERCICIO 1\n"
   ]
  },
  {
   "cell_type": "code",
   "execution_count": 1,
   "metadata": {},
   "outputs": [
    {
     "ename": "NameError",
     "evalue": "name 'Ridge' is not defined",
     "output_type": "error",
     "traceback": [
      "\u001b[0;31m---------------------------------------------------------------------------\u001b[0m",
      "\u001b[0;31mNameError\u001b[0m                                 Traceback (most recent call last)",
      "\u001b[0;32m<ipython-input-1-eaba2ced2d09>\u001b[0m in \u001b[0;36m<module>\u001b[0;34m\u001b[0m\n\u001b[1;32m      4\u001b[0m \u001b[0manswers_array\u001b[0m \u001b[0;34m=\u001b[0m \u001b[0;34m[\u001b[0m\u001b[0;34m]\u001b[0m\u001b[0;34m\u001b[0m\u001b[0;34m\u001b[0m\u001b[0m\n\u001b[1;32m      5\u001b[0m \u001b[0;32mfor\u001b[0m \u001b[0mi\u001b[0m \u001b[0;32min\u001b[0m \u001b[0mrange\u001b[0m\u001b[0;34m(\u001b[0m\u001b[0mlen\u001b[0m\u001b[0;34m(\u001b[0m\u001b[0mu\u001b[0m\u001b[0;34m)\u001b[0m\u001b[0;34m)\u001b[0m\u001b[0;34m:\u001b[0m\u001b[0;34m\u001b[0m\u001b[0;34m\u001b[0m\u001b[0m\n\u001b[0;32m----> 6\u001b[0;31m     \u001b[0mclf\u001b[0m \u001b[0;34m=\u001b[0m \u001b[0mRidge\u001b[0m\u001b[0;34m(\u001b[0m\u001b[0malpha\u001b[0m\u001b[0;34m=\u001b[0m\u001b[0mparameter\u001b[0m\u001b[0;34m[\u001b[0m\u001b[0mi\u001b[0m\u001b[0;34m]\u001b[0m\u001b[0;34m,\u001b[0m \u001b[0mwarm_start\u001b[0m\u001b[0;34m=\u001b[0m\u001b[0;32mTrue\u001b[0m\u001b[0;34m)\u001b[0m\u001b[0;34m\u001b[0m\u001b[0;34m\u001b[0m\u001b[0m\n\u001b[0m\u001b[1;32m      7\u001b[0m     \u001b[0;32mfor\u001b[0m \u001b[0mi\u001b[0m \u001b[0;32min\u001b[0m \u001b[0mrange\u001b[0m\u001b[0;34m(\u001b[0m\u001b[0;36m100\u001b[0m\u001b[0;34m)\u001b[0m\u001b[0;34m:\u001b[0m\u001b[0;34m\u001b[0m\u001b[0;34m\u001b[0m\u001b[0m\n\u001b[1;32m      8\u001b[0m         \u001b[0mclf\u001b[0m\u001b[0;34m.\u001b[0m\u001b[0mfit\u001b[0m\u001b[0;34m(\u001b[0m\u001b[0mX\u001b[0m\u001b[0;34m,\u001b[0m \u001b[0my\u001b[0m\u001b[0;34m)\u001b[0m\u001b[0;34m\u001b[0m\u001b[0;34m\u001b[0m\u001b[0m\n",
      "\u001b[0;31mNameError\u001b[0m: name 'Ridge' is not defined"
     ]
    }
   ],
   "source": [
    "u = [0.01, 0.001, 0.001]\n",
    "parameter = [0.001, 1, 0.1]\n",
    "\n",
    "answers_array = []\n",
    "for i in range(len(u)):\n",
    "    clf = Ridge(alpha=parameter[i], warm_start=True)\n",
    "    for i in range(100):\n",
    "        clf.fit(X, y)\n",
    "        answers_array.append(clf.fit(X, y))\n",
    "    print(answers_array)\n",
    "\n",
    "def Ridge(X, y, X_test, y_test):\n",
    "    total=0\n",
    "    sets =  linear_model.Ridge(alpha=1.0)\n",
    "    for i in range(100):\n",
    "        sets1 = sets.partial_fit(X, Y)\n",
    "        y_hat =  sets1.predict(X_test)\n",
    "        total += RMSE_function(Y_test, y_hat)  \n",
    "        return total\n",
    "\n",
    "print(Ridge(X, Y, X_test, Y_test))"
   ]
  },
  {
   "cell_type": "code",
   "execution_count": 18,
   "metadata": {},
   "outputs": [],
   "source": [
    "def RMSE_function(y, y_hat):\n",
    "    error = np.sqrt(np.sum((y - y_hat)**2)/y.shape[0])\n",
    "    return error\n",
    "\n",
    "def SGD_regression(X, y, X_test, y_test, u, parameter):\n",
    "    total_train = 0\n",
    "    total_test = 0\n",
    "    train_RMSE = []\n",
    "    test_RMSE = []\n",
    "    sets = linear_model.SGDRegressor(alpha = parameter, eta0 = u,  warm_start=True, penalty=None)\n",
    "    for i in range(100):\n",
    "        sets_it = sets.partial_fit(X, Y)\n",
    "        betas = sets_it.coef_\n",
    "        y_hat = sets_it.predict(X)\n",
    "        y_hat_test = sets_it.predict(X_test)\n",
    "        #total_train = RMSE_function(Y, y_hat)\n",
    "        total_train = mean_squared_error(Y, y_hat, squared=False)\n",
    "        #total_test = RMSE_function(Y_test, y_hat_test)\n",
    "        total_test = mean_squared_error(Y_test, y_hat_test, squared=False)\n",
    "        scores = str(sets_it.score)\n",
    "        train_RMSE.append(total_train)\n",
    "        test_RMSE.append(total_test)\n",
    "    print(\"[INFO] MSE : {}\".format(round(mean_squared_error(Y, y_hat), 2)))\n",
    "\n",
    "    return betas, total_train, total_test, train_RMSE, test_RMSE, scores, y_hat\n",
    "\n"
   ]
  },
  {
   "cell_type": "code",
   "execution_count": 19,
   "metadata": {},
   "outputs": [
    {
     "ename": "NameError",
     "evalue": "name 'Y' is not defined",
     "output_type": "error",
     "traceback": [
      "\u001b[0;31m---------------------------------------------------------------------------\u001b[0m",
      "\u001b[0;31mNameError\u001b[0m                                 Traceback (most recent call last)",
      "\u001b[0;32m<ipython-input-19-5c8b7210e883>\u001b[0m in \u001b[0;36m<module>\u001b[0;34m\u001b[0m\n\u001b[1;32m      1\u001b[0m \u001b[0;34m\u001b[0m\u001b[0m\n\u001b[0;32m----> 2\u001b[0;31m \u001b[0ma\u001b[0m\u001b[0;34m,\u001b[0m \u001b[0mb\u001b[0m\u001b[0;34m,\u001b[0m \u001b[0mc\u001b[0m\u001b[0;34m,\u001b[0m \u001b[0md\u001b[0m\u001b[0;34m,\u001b[0m \u001b[0me\u001b[0m\u001b[0;34m,\u001b[0m \u001b[0mf\u001b[0m\u001b[0;34m,\u001b[0m \u001b[0mg\u001b[0m \u001b[0;34m=\u001b[0m \u001b[0mSGD_regression\u001b[0m\u001b[0;34m(\u001b[0m\u001b[0mX\u001b[0m\u001b[0;34m,\u001b[0m \u001b[0mY\u001b[0m\u001b[0;34m,\u001b[0m \u001b[0mX_test\u001b[0m\u001b[0;34m,\u001b[0m \u001b[0mY_test\u001b[0m\u001b[0;34m,\u001b[0m \u001b[0;36m0.01\u001b[0m\u001b[0;34m,\u001b[0m \u001b[0;36m0.001\u001b[0m\u001b[0;34m)\u001b[0m\u001b[0;34m\u001b[0m\u001b[0;34m\u001b[0m\u001b[0m\n\u001b[0m\u001b[1;32m      3\u001b[0m \u001b[0mx_axis\u001b[0m \u001b[0;34m=\u001b[0m \u001b[0mnp\u001b[0m\u001b[0;34m.\u001b[0m\u001b[0marray\u001b[0m\u001b[0;34m(\u001b[0m\u001b[0mrange\u001b[0m\u001b[0;34m(\u001b[0m\u001b[0;36m0\u001b[0m\u001b[0;34m,\u001b[0m \u001b[0mg\u001b[0m\u001b[0;34m.\u001b[0m\u001b[0mshape\u001b[0m\u001b[0;34m[\u001b[0m\u001b[0;36m0\u001b[0m\u001b[0;34m]\u001b[0m\u001b[0;34m)\u001b[0m\u001b[0;34m)\u001b[0m\u001b[0;34m\u001b[0m\u001b[0;34m\u001b[0m\u001b[0m\n\u001b[1;32m      4\u001b[0m \u001b[0mplt\u001b[0m\u001b[0;34m.\u001b[0m\u001b[0mplot\u001b[0m\u001b[0;34m(\u001b[0m\u001b[0mx_axis\u001b[0m\u001b[0;34m,\u001b[0m \u001b[0my_hat\u001b[0m\u001b[0;34m,\u001b[0m \u001b[0mlinestyle\u001b[0m\u001b[0;34m=\u001b[0m\u001b[0;34m\"--\"\u001b[0m\u001b[0;34m,\u001b[0m \u001b[0mmarker\u001b[0m\u001b[0;34m=\u001b[0m\u001b[0;34m\"o\"\u001b[0m\u001b[0;34m,\u001b[0m \u001b[0malpha\u001b[0m\u001b[0;34m=\u001b[0m\u001b[0;36m0.7\u001b[0m\u001b[0;34m,\u001b[0m \u001b[0mcolor\u001b[0m\u001b[0;34m=\u001b[0m\u001b[0;34m'r'\u001b[0m\u001b[0;34m,\u001b[0m \u001b[0mlabel\u001b[0m\u001b[0;34m=\u001b[0m\u001b[0;34m\"predictions\"\u001b[0m\u001b[0;34m)\u001b[0m\u001b[0;34m\u001b[0m\u001b[0;34m\u001b[0m\u001b[0m\n\u001b[1;32m      5\u001b[0m \u001b[0mplt\u001b[0m\u001b[0;34m.\u001b[0m\u001b[0mplot\u001b[0m\u001b[0;34m(\u001b[0m\u001b[0mx_axis\u001b[0m\u001b[0;34m,\u001b[0m \u001b[0mY_test\u001b[0m\u001b[0;34m,\u001b[0m \u001b[0mlinestyle\u001b[0m\u001b[0;34m=\u001b[0m\u001b[0;34m\"--\"\u001b[0m\u001b[0;34m,\u001b[0m \u001b[0mmarker\u001b[0m\u001b[0;34m=\u001b[0m\u001b[0;34m\"o\"\u001b[0m\u001b[0;34m,\u001b[0m \u001b[0malpha\u001b[0m\u001b[0;34m=\u001b[0m\u001b[0;36m0.7\u001b[0m\u001b[0;34m,\u001b[0m \u001b[0mcolor\u001b[0m\u001b[0;34m=\u001b[0m\u001b[0;34m'g'\u001b[0m\u001b[0;34m,\u001b[0m \u001b[0mlabel\u001b[0m\u001b[0;34m=\u001b[0m\u001b[0;34m\"Y_test\"\u001b[0m\u001b[0;34m)\u001b[0m\u001b[0;34m\u001b[0m\u001b[0;34m\u001b[0m\u001b[0m\n",
      "\u001b[0;31mNameError\u001b[0m: name 'Y' is not defined"
     ]
    }
   ],
   "source": [
    "\n",
    "a, b, c, d, e, f, g = SGD_regression(X, Y, X_test, Y_test, 0.01, 0.001)\n",
    "x_axis = np.array(range(0, g.shape[0]))\n",
    "plt.plot(x_axis, y_hat, linestyle=\"--\", marker=\"o\", alpha=0.7, color='r', label=\"predictions\")\n",
    "plt.plot(x_axis, Y_test, linestyle=\"--\", marker=\"o\", alpha=0.7, color='g', label=\"Y_test\")\n",
    "plt.xlabel('Row number')\n",
    "plt.ylabel('PRICE')\n",
    "plt.title('Predictions vs Y_test')\n",
    "plt.legend(loc='lower right')\n",
    "plt.savefig(\"predictions_vs_ytest.png\")\n",
    "plt.clf()\n",
    "plt.close()"
   ]
  },
  {
   "cell_type": "code",
   "execution_count": null,
   "metadata": {},
   "outputs": [],
   "source": []
  },
  {
   "cell_type": "code",
   "execution_count": null,
   "metadata": {},
   "outputs": [],
   "source": []
  }
 ],
 "metadata": {
  "kernelspec": {
   "display_name": "Python 3",
   "language": "python",
   "name": "python3"
  },
  "language_info": {
   "codemirror_mode": {
    "name": "ipython",
    "version": 3
   },
   "file_extension": ".py",
   "mimetype": "text/x-python",
   "name": "python",
   "nbconvert_exporter": "python",
   "pygments_lexer": "ipython3",
   "version": "3.7.3"
  }
 },
 "nbformat": 4,
 "nbformat_minor": 2
}
