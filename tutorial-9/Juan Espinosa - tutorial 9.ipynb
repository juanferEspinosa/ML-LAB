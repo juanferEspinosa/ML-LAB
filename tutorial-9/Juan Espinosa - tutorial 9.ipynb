{
 "cells": [
  {
   "cell_type": "markdown",
   "metadata": {},
   "source": [
    "<br><br><center><h1 style=\"font-size:2.7em;color:#000\">MACHINE LEARNING LAB - TUTORIAL 9</h1></center>\n",
    "<br>\n",
    "<h1 style=\"font-size:2em;color:#000\">Juan Fernando Espinosa</h1>\n",
    "<h1 style=\"font-size:2em;color:#000\">303158</h1>\n",
    "\n",
    "---\n",
    "<h3 style=\"font-size:2em;color:#ff4411\">1. SPAM FILTER USING SVM</h3>"
   ]
  },
  {
   "cell_type": "markdown",
   "metadata": {},
   "source": [
    "<h4 style=\"font-size:2em;color:#2467C0\">A. Build a spam filter using a pre-processed dataset</h4>\n",
    "<br>"
   ]
  },
  {
   "cell_type": "code",
   "execution_count": 1,
   "metadata": {},
   "outputs": [],
   "source": [
    "from libsvm.python.svmutil import *\n",
    "import pandas as pd\n",
    "import pandas as DataFrame\n",
    "import numpy as np\n",
    "from nltk import stem\n",
    "from nltk.corpus import stopwords\n",
    "from sklearn.feature_extraction import DictVectorizer\n",
    "from sklearn.feature_extraction.text import CountVectorizer, TfidfVectorizer, TfidfTransformer\n",
    "from sklearn.preprocessing import StandardScaler\n",
    "from sklearn.model_selection import GridSearchCV\n",
    "from sklearn.metrics import confusion_matrix\n",
    "from sklearn.svm import SVC\n",
    "from sklearn.preprocessing import StandardScaler\n",
    "from sklearn.pipeline import Pipeline\n",
    "from sklearn.linear_model import LogisticRegression\n",
    "import matplotlib.pyplot as plt\n",
    "from sklearn.metrics import classification_report"
   ]
  },
  {
   "cell_type": "code",
   "execution_count": 2,
   "metadata": {},
   "outputs": [
    {
     "data": {
      "text/html": [
       "<div>\n",
       "<style scoped>\n",
       "    .dataframe tbody tr th:only-of-type {\n",
       "        vertical-align: middle;\n",
       "    }\n",
       "\n",
       "    .dataframe tbody tr th {\n",
       "        vertical-align: top;\n",
       "    }\n",
       "\n",
       "    .dataframe thead th {\n",
       "        text-align: right;\n",
       "    }\n",
       "</style>\n",
       "<table border=\"1\" class=\"dataframe\">\n",
       "  <thead>\n",
       "    <tr style=\"text-align: right;\">\n",
       "      <th></th>\n",
       "      <th>0</th>\n",
       "      <th>1</th>\n",
       "      <th>2</th>\n",
       "      <th>3</th>\n",
       "      <th>4</th>\n",
       "      <th>5</th>\n",
       "      <th>6</th>\n",
       "      <th>7</th>\n",
       "      <th>8</th>\n",
       "      <th>9</th>\n",
       "      <th>...</th>\n",
       "      <th>48</th>\n",
       "      <th>49</th>\n",
       "      <th>50</th>\n",
       "      <th>51</th>\n",
       "      <th>52</th>\n",
       "      <th>53</th>\n",
       "      <th>54</th>\n",
       "      <th>55</th>\n",
       "      <th>56</th>\n",
       "      <th>57</th>\n",
       "    </tr>\n",
       "  </thead>\n",
       "  <tbody>\n",
       "    <tr>\n",
       "      <th>0</th>\n",
       "      <td>0.00</td>\n",
       "      <td>0.64</td>\n",
       "      <td>0.64</td>\n",
       "      <td>0.0</td>\n",
       "      <td>0.32</td>\n",
       "      <td>0.00</td>\n",
       "      <td>0.00</td>\n",
       "      <td>0.00</td>\n",
       "      <td>0.00</td>\n",
       "      <td>0.00</td>\n",
       "      <td>...</td>\n",
       "      <td>0.00</td>\n",
       "      <td>0.000</td>\n",
       "      <td>0.0</td>\n",
       "      <td>0.778</td>\n",
       "      <td>0.000</td>\n",
       "      <td>0.000</td>\n",
       "      <td>3.756</td>\n",
       "      <td>61</td>\n",
       "      <td>278</td>\n",
       "      <td>1</td>\n",
       "    </tr>\n",
       "    <tr>\n",
       "      <th>1</th>\n",
       "      <td>0.21</td>\n",
       "      <td>0.28</td>\n",
       "      <td>0.50</td>\n",
       "      <td>0.0</td>\n",
       "      <td>0.14</td>\n",
       "      <td>0.28</td>\n",
       "      <td>0.21</td>\n",
       "      <td>0.07</td>\n",
       "      <td>0.00</td>\n",
       "      <td>0.94</td>\n",
       "      <td>...</td>\n",
       "      <td>0.00</td>\n",
       "      <td>0.132</td>\n",
       "      <td>0.0</td>\n",
       "      <td>0.372</td>\n",
       "      <td>0.180</td>\n",
       "      <td>0.048</td>\n",
       "      <td>5.114</td>\n",
       "      <td>101</td>\n",
       "      <td>1028</td>\n",
       "      <td>1</td>\n",
       "    </tr>\n",
       "    <tr>\n",
       "      <th>2</th>\n",
       "      <td>0.06</td>\n",
       "      <td>0.00</td>\n",
       "      <td>0.71</td>\n",
       "      <td>0.0</td>\n",
       "      <td>1.23</td>\n",
       "      <td>0.19</td>\n",
       "      <td>0.19</td>\n",
       "      <td>0.12</td>\n",
       "      <td>0.64</td>\n",
       "      <td>0.25</td>\n",
       "      <td>...</td>\n",
       "      <td>0.01</td>\n",
       "      <td>0.143</td>\n",
       "      <td>0.0</td>\n",
       "      <td>0.276</td>\n",
       "      <td>0.184</td>\n",
       "      <td>0.010</td>\n",
       "      <td>9.821</td>\n",
       "      <td>485</td>\n",
       "      <td>2259</td>\n",
       "      <td>1</td>\n",
       "    </tr>\n",
       "    <tr>\n",
       "      <th>3</th>\n",
       "      <td>0.00</td>\n",
       "      <td>0.00</td>\n",
       "      <td>0.00</td>\n",
       "      <td>0.0</td>\n",
       "      <td>0.63</td>\n",
       "      <td>0.00</td>\n",
       "      <td>0.31</td>\n",
       "      <td>0.63</td>\n",
       "      <td>0.31</td>\n",
       "      <td>0.63</td>\n",
       "      <td>...</td>\n",
       "      <td>0.00</td>\n",
       "      <td>0.137</td>\n",
       "      <td>0.0</td>\n",
       "      <td>0.137</td>\n",
       "      <td>0.000</td>\n",
       "      <td>0.000</td>\n",
       "      <td>3.537</td>\n",
       "      <td>40</td>\n",
       "      <td>191</td>\n",
       "      <td>1</td>\n",
       "    </tr>\n",
       "    <tr>\n",
       "      <th>4</th>\n",
       "      <td>0.00</td>\n",
       "      <td>0.00</td>\n",
       "      <td>0.00</td>\n",
       "      <td>0.0</td>\n",
       "      <td>0.63</td>\n",
       "      <td>0.00</td>\n",
       "      <td>0.31</td>\n",
       "      <td>0.63</td>\n",
       "      <td>0.31</td>\n",
       "      <td>0.63</td>\n",
       "      <td>...</td>\n",
       "      <td>0.00</td>\n",
       "      <td>0.135</td>\n",
       "      <td>0.0</td>\n",
       "      <td>0.135</td>\n",
       "      <td>0.000</td>\n",
       "      <td>0.000</td>\n",
       "      <td>3.537</td>\n",
       "      <td>40</td>\n",
       "      <td>191</td>\n",
       "      <td>1</td>\n",
       "    </tr>\n",
       "  </tbody>\n",
       "</table>\n",
       "<p>5 rows × 58 columns</p>\n",
       "</div>"
      ],
      "text/plain": [
       "      0     1     2    3     4     5     6     7     8     9  ...    48  \\\n",
       "0  0.00  0.64  0.64  0.0  0.32  0.00  0.00  0.00  0.00  0.00  ...  0.00   \n",
       "1  0.21  0.28  0.50  0.0  0.14  0.28  0.21  0.07  0.00  0.94  ...  0.00   \n",
       "2  0.06  0.00  0.71  0.0  1.23  0.19  0.19  0.12  0.64  0.25  ...  0.01   \n",
       "3  0.00  0.00  0.00  0.0  0.63  0.00  0.31  0.63  0.31  0.63  ...  0.00   \n",
       "4  0.00  0.00  0.00  0.0  0.63  0.00  0.31  0.63  0.31  0.63  ...  0.00   \n",
       "\n",
       "      49   50     51     52     53     54   55    56  57  \n",
       "0  0.000  0.0  0.778  0.000  0.000  3.756   61   278   1  \n",
       "1  0.132  0.0  0.372  0.180  0.048  5.114  101  1028   1  \n",
       "2  0.143  0.0  0.276  0.184  0.010  9.821  485  2259   1  \n",
       "3  0.137  0.0  0.137  0.000  0.000  3.537   40   191   1  \n",
       "4  0.135  0.0  0.135  0.000  0.000  3.537   40   191   1  \n",
       "\n",
       "[5 rows x 58 columns]"
      ]
     },
     "execution_count": 2,
     "metadata": {},
     "output_type": "execute_result"
    }
   ],
   "source": [
    "missing_values = ['-','na','Nan','nan','n/a','?']      \n",
    "column_names =['0','1','2','3','4','5','6','7','8','9','10','11','12','13','14','15','16','17','18','19','20','21','22','23','24','25','26','27','28','29','30','31','32','33','34','35','36','37','38','39','40','41','42','43','44','45','46','47','48','49','50','51','52','53','54','55','56', '57']\n",
    "D3 = pd.read_csv(\"spambase.data\", sep=',', na_values = missing_values, names = column_names)\n",
    "D3.head()"
   ]
  },
  {
   "cell_type": "markdown",
   "metadata": {},
   "source": [
    "### Training and Testing Splitting"
   ]
  },
  {
   "cell_type": "code",
   "execution_count": 3,
   "metadata": {},
   "outputs": [
    {
     "name": "stdout",
     "output_type": "stream",
     "text": [
      "y_train set: 3221\n",
      "X_train set: 3221\n",
      "y_test set: 1380\n",
      "X_test set: 1380\n"
     ]
    }
   ],
   "source": [
    "D3_train = D3.sample(frac=0.7, random_state=1)\n",
    "D3_test = D3.drop(D3_train.index)\n",
    "\n",
    "Y_train = D3_train['57'].values\n",
    "print('y_train set:',len(Y_train))\n",
    "X_train = D3_train.drop(['57'], axis=1).values\n",
    "print('X_train set:',len(X_train))\n",
    "Y_test = D3_test['57'].values\n",
    "print('y_test set:',len(Y_test))\n",
    "X_test = D3_test.drop(['57'], axis=1).values\n",
    "print('X_test set:',len(X_test))"
   ]
  },
  {
   "cell_type": "markdown",
   "metadata": {},
   "source": [
    "### Mixing column name and value into Dictionary - Training"
   ]
  },
  {
   "cell_type": "code",
   "execution_count": 4,
   "metadata": {},
   "outputs": [
    {
     "name": "stdout",
     "output_type": "stream",
     "text": [
      "First row printing: \n",
      " \n",
      " [{0: 0.0, 1: 0.0, 2: 0.0, 3: 0.0, 4: 1.01, 5: 0.0, 6: 0.0, 7: 0.0, 8: 0.0, 9: 0.0, 10: 0.0, 11: 0.0, 12: 0.0, 13: 0.0, 14: 0.0, 15: 0.0, 16: 0.0, 17: 0.0, 18: 0.0, 19: 0.0, 20: 0.0, 21: 0.0, 22: 0.0, 23: 0.0, 24: 0.0, 25: 0.0, 26: 0.0, 27: 0.0, 28: 0.0, 29: 0.0, 30: 0.0, 31: 0.0, 32: 0.0, 33: 0.0, 34: 0.0, 35: 0.0, 36: 5.05, 37: 0.0, 38: 0.0, 39: 0.0, 40: 0.0, 41: 0.0, 42: 0.0, 43: 0.0, 44: 0.0, 45: 0.0, 46: 0.0, 47: 0.0, 48: 0.0, 49: 0.08800000000000001, 50: 0.0, 51: 0.0, 52: 0.08800000000000001, 53: 0.0, 54: 6.718, 55: 33.0, 56: 215.0}]\n"
     ]
    }
   ],
   "source": [
    "x = []\n",
    "for i in range(len(X_train)):\n",
    "    dictionary = {}\n",
    "    for j in range(len(X_train[i])):\n",
    "        dictionary[j]=X_train[i][j]\n",
    "    x.append(dictionary)\n",
    "print('First row printing:','\\n','\\n', x[0:1])\n"
   ]
  },
  {
   "cell_type": "markdown",
   "metadata": {},
   "source": [
    "### Mixing column name and value into Dictionary - Testing"
   ]
  },
  {
   "cell_type": "code",
   "execution_count": 5,
   "metadata": {},
   "outputs": [
    {
     "name": "stdout",
     "output_type": "stream",
     "text": [
      "First row printing: \n",
      " \n",
      " [{0: 0.06, 1: 0.0, 2: 0.71, 3: 0.0, 4: 1.23, 5: 0.19, 6: 0.19, 7: 0.12, 8: 0.64, 9: 0.25, 10: 0.38, 11: 0.45, 12: 0.12, 13: 0.0, 14: 1.75, 15: 0.06, 16: 0.06, 17: 1.03, 18: 1.36, 19: 0.32, 20: 0.51, 21: 0.0, 22: 1.16, 23: 0.06, 24: 0.0, 25: 0.0, 26: 0.0, 27: 0.0, 28: 0.0, 29: 0.0, 30: 0.0, 31: 0.0, 32: 0.0, 33: 0.0, 34: 0.0, 35: 0.0, 36: 0.0, 37: 0.0, 38: 0.0, 39: 0.06, 40: 0.0, 41: 0.0, 42: 0.12, 43: 0.0, 44: 0.06, 45: 0.06, 46: 0.0, 47: 0.0, 48: 0.01, 49: 0.14300000000000002, 50: 0.0, 51: 0.276, 52: 0.184, 53: 0.01, 54: 9.821, 55: 485.0, 56: 2259.0}]\n"
     ]
    }
   ],
   "source": [
    "x_test = []\n",
    "for i in range(len(X_test)):\n",
    "    dictionary = {}\n",
    "    for j in range(len(X_test[i])):\n",
    "        dictionary[j]=X_test[i][j]\n",
    "    x_test.append(dictionary)\n",
    "print('First row printing:','\\n','\\n', x_test[0:1])"
   ]
  },
  {
   "cell_type": "markdown",
   "metadata": {},
   "source": [
    "### Training and testing of the model - Classification task"
   ]
  },
  {
   "cell_type": "code",
   "execution_count": 6,
   "metadata": {},
   "outputs": [
    {
     "name": "stdout",
     "output_type": "stream",
     "text": [
      "Accuracy = 75.2899% (1039/1380) (classification)\n",
      "MSE =  0.24710144927536232\n",
      "Accuracy = 82.3188% (1136/1380) (classification)\n",
      "MSE =  0.17681159420289855\n",
      "Accuracy = 84.4928% (1166/1380) (classification)\n",
      "MSE =  0.15507246376811595\n",
      "Accuracy = 84.7101% (1169/1380) (classification)\n",
      "MSE =  0.15289855072463768\n",
      "Accuracy = 84.7826% (1170/1380) (classification)\n",
      "MSE =  0.15217391304347827\n",
      "Accuracy = 84.9275% (1172/1380) (classification)\n",
      "MSE =  0.15072463768115943\n",
      "Accuracy = 84.5652% (1167/1380) (classification)\n",
      "MSE =  0.15434782608695652\n",
      "Accuracy = 84.6377% (1168/1380) (classification)\n",
      "MSE =  0.1536231884057971\n",
      "Accuracy = 84.5652% (1167/1380) (classification)\n",
      "MSE =  0.15434782608695652\n",
      "Accuracy = 84.6377% (1168/1380) (classification)\n",
      "MSE =  0.1536231884057971\n",
      "Accuracy = 84.6377% (1168/1380) (classification)\n",
      "MSE =  0.1536231884057971\n",
      "Accuracy = 84.4203% (1165/1380) (classification)\n",
      "MSE =  0.15579710144927536\n",
      "Accuracy = 84.4928% (1166/1380) (classification)\n",
      "MSE =  0.15507246376811595\n",
      "Accuracy = 84.3478% (1164/1380) (classification)\n",
      "MSE =  0.1565217391304348\n",
      "Accuracy = 84.4203% (1165/1380) (classification)\n",
      "MSE =  0.15579710144927536\n",
      "Accuracy = 84.3478% (1164/1380) (classification)\n",
      "MSE =  0.1565217391304348\n",
      "Accuracy = 84.4203% (1165/1380) (classification)\n",
      "MSE =  0.15579710144927536\n",
      "Accuracy = 84.4203% (1165/1380) (classification)\n",
      "MSE =  0.15579710144927536\n",
      "Accuracy = 84.4928% (1166/1380) (classification)\n",
      "MSE =  0.15507246376811595\n",
      "Accuracy = 84.4928% (1166/1380) (classification)\n",
      "MSE =  0.15507246376811595\n",
      "Accuracy = 84.4928% (1166/1380) (classification)\n",
      "MSE =  0.15507246376811595\n",
      "Accuracy = 84.4928% (1166/1380) (classification)\n",
      "MSE =  0.15507246376811595\n",
      "Accuracy = 84.3478% (1164/1380) (classification)\n",
      "MSE =  0.1565217391304348\n",
      "Accuracy = 84.3478% (1164/1380) (classification)\n",
      "MSE =  0.1565217391304348\n",
      "Accuracy = 84.3478% (1164/1380) (classification)\n",
      "MSE =  0.1565217391304348\n",
      "Accuracy = 84.3478% (1164/1380) (classification)\n",
      "MSE =  0.1565217391304348\n",
      "Accuracy = 84.4203% (1165/1380) (classification)\n",
      "MSE =  0.15579710144927536\n",
      "Accuracy = 84.4203% (1165/1380) (classification)\n",
      "MSE =  0.15579710144927536\n",
      "Accuracy = 84.4203% (1165/1380) (classification)\n",
      "MSE =  0.15579710144927536\n",
      "Accuracy = 84.4203% (1165/1380) (classification)\n",
      "MSE =  0.15579710144927536\n",
      "Accuracy = 84.3478% (1164/1380) (classification)\n",
      "MSE =  0.1565217391304348\n",
      "Accuracy = 84.3478% (1164/1380) (classification)\n",
      "MSE =  0.1565217391304348\n",
      "Accuracy = 84.2754% (1163/1380) (classification)\n",
      "MSE =  0.1572463768115942\n",
      "Accuracy = 84.2754% (1163/1380) (classification)\n",
      "MSE =  0.1572463768115942\n",
      "Accuracy = 84.2754% (1163/1380) (classification)\n",
      "MSE =  0.1572463768115942\n",
      "Accuracy = 84.2754% (1163/1380) (classification)\n",
      "MSE =  0.1572463768115942\n",
      "Accuracy = 84.2754% (1163/1380) (classification)\n",
      "MSE =  0.1572463768115942\n",
      "Accuracy = 84.3478% (1164/1380) (classification)\n",
      "MSE =  0.1565217391304348\n",
      "Accuracy = 84.2754% (1163/1380) (classification)\n",
      "MSE =  0.1572463768115942\n",
      "Accuracy = 84.2754% (1163/1380) (classification)\n",
      "MSE =  0.1572463768115942\n",
      "Accuracy = 84.2754% (1163/1380) (classification)\n",
      "MSE =  0.1572463768115942\n",
      "Accuracy = 84.2754% (1163/1380) (classification)\n",
      "MSE =  0.1572463768115942\n",
      "Accuracy = 84.2754% (1163/1380) (classification)\n",
      "MSE =  0.1572463768115942\n",
      "Accuracy = 84.2754% (1163/1380) (classification)\n",
      "MSE =  0.1572463768115942\n",
      "Accuracy = 84.2754% (1163/1380) (classification)\n",
      "MSE =  0.1572463768115942\n",
      "Accuracy = 84.2754% (1163/1380) (classification)\n",
      "MSE =  0.1572463768115942\n",
      "Accuracy = 84.2754% (1163/1380) (classification)\n",
      "MSE =  0.1572463768115942\n",
      "Accuracy = 84.2754% (1163/1380) (classification)\n",
      "MSE =  0.1572463768115942\n",
      "Accuracy = 84.2754% (1163/1380) (classification)\n",
      "MSE =  0.1572463768115942\n",
      "Accuracy = 84.2754% (1163/1380) (classification)\n",
      "MSE =  0.1572463768115942\n",
      "Accuracy = 84.2754% (1163/1380) (classification)\n",
      "MSE =  0.1572463768115942\n",
      "Accuracy = 84.2754% (1163/1380) (classification)\n",
      "MSE =  0.1572463768115942\n",
      "Accuracy = 84.2029% (1162/1380) (classification)\n",
      "MSE =  0.15797101449275364\n",
      "Accuracy = 84.2029% (1162/1380) (classification)\n",
      "MSE =  0.15797101449275364\n",
      "Accuracy = 84.2029% (1162/1380) (classification)\n",
      "MSE =  0.15797101449275364\n",
      "Accuracy = 84.2029% (1162/1380) (classification)\n",
      "MSE =  0.15797101449275364\n",
      "Accuracy = 84.2029% (1162/1380) (classification)\n",
      "MSE =  0.15797101449275364\n",
      "Accuracy = 84.2029% (1162/1380) (classification)\n",
      "MSE =  0.15797101449275364\n",
      "Accuracy = 84.2029% (1162/1380) (classification)\n",
      "MSE =  0.15797101449275364\n",
      "Accuracy = 84.2029% (1162/1380) (classification)\n",
      "MSE =  0.15797101449275364\n",
      "Accuracy = 84.2029% (1162/1380) (classification)\n",
      "MSE =  0.15797101449275364\n",
      "Accuracy = 84.2754% (1163/1380) (classification)\n",
      "MSE =  0.1572463768115942\n",
      "Accuracy = 84.2754% (1163/1380) (classification)\n",
      "MSE =  0.1572463768115942\n",
      "Accuracy = 84.2754% (1163/1380) (classification)\n",
      "MSE =  0.1572463768115942\n",
      "Accuracy = 84.2754% (1163/1380) (classification)\n",
      "MSE =  0.1572463768115942\n",
      "Accuracy = 84.2754% (1163/1380) (classification)\n",
      "MSE =  0.1572463768115942\n",
      "Accuracy = 84.2754% (1163/1380) (classification)\n",
      "MSE =  0.1572463768115942\n",
      "Accuracy = 84.2754% (1163/1380) (classification)\n",
      "MSE =  0.1572463768115942\n",
      "Accuracy = 84.2029% (1162/1380) (classification)\n",
      "MSE =  0.15797101449275364\n",
      "Accuracy = 84.2029% (1162/1380) (classification)\n",
      "MSE =  0.15797101449275364\n",
      "Accuracy = 84.2029% (1162/1380) (classification)\n",
      "MSE =  0.15797101449275364\n",
      "Accuracy = 84.2029% (1162/1380) (classification)\n",
      "MSE =  0.15797101449275364\n",
      "Accuracy = 84.2029% (1162/1380) (classification)\n",
      "MSE =  0.15797101449275364\n",
      "Accuracy = 84.2029% (1162/1380) (classification)\n",
      "MSE =  0.15797101449275364\n",
      "Accuracy = 84.2029% (1162/1380) (classification)\n",
      "MSE =  0.15797101449275364\n",
      "Accuracy = 84.2029% (1162/1380) (classification)\n",
      "MSE =  0.15797101449275364\n",
      "Accuracy = 84.2029% (1162/1380) (classification)\n",
      "MSE =  0.15797101449275364\n",
      "Accuracy = 84.2754% (1163/1380) (classification)\n",
      "MSE =  0.1572463768115942\n",
      "Accuracy = 84.2754% (1163/1380) (classification)\n",
      "MSE =  0.1572463768115942\n",
      "Accuracy = 84.2754% (1163/1380) (classification)\n",
      "MSE =  0.1572463768115942\n",
      "Accuracy = 84.2754% (1163/1380) (classification)\n",
      "MSE =  0.1572463768115942\n",
      "Accuracy = 84.2754% (1163/1380) (classification)\n",
      "MSE =  0.1572463768115942\n",
      "Accuracy = 84.2754% (1163/1380) (classification)\n",
      "MSE =  0.1572463768115942\n",
      "Accuracy = 84.2754% (1163/1380) (classification)\n",
      "MSE =  0.1572463768115942\n",
      "Accuracy = 84.2754% (1163/1380) (classification)\n",
      "MSE =  0.1572463768115942\n",
      "Accuracy = 84.2754% (1163/1380) (classification)\n",
      "MSE =  0.1572463768115942\n",
      "Accuracy = 84.2754% (1163/1380) (classification)\n",
      "MSE =  0.1572463768115942\n",
      "Accuracy = 84.2029% (1162/1380) (classification)\n",
      "MSE =  0.15797101449275364\n",
      "Accuracy = 84.1304% (1161/1380) (classification)\n",
      "MSE =  0.15869565217391304\n",
      "Accuracy = 84.1304% (1161/1380) (classification)\n",
      "MSE =  0.15869565217391304\n",
      "Accuracy = 84.1304% (1161/1380) (classification)\n",
      "MSE =  0.15869565217391304\n",
      "Accuracy = 84.1304% (1161/1380) (classification)\n",
      "MSE =  0.15869565217391304\n",
      "Accuracy = 84.1304% (1161/1380) (classification)\n",
      "MSE =  0.15869565217391304\n",
      "Accuracy = 84.1304% (1161/1380) (classification)\n",
      "MSE =  0.15869565217391304\n",
      "Accuracy = 84.1304% (1161/1380) (classification)\n",
      "MSE =  0.15869565217391304\n",
      "Accuracy = 84.1304% (1161/1380) (classification)\n",
      "MSE =  0.15869565217391304\n",
      "Accuracy = 84.1304% (1161/1380) (classification)\n",
      "MSE =  0.15869565217391304\n",
      "Accuracy = 84.1304% (1161/1380) (classification)\n",
      "MSE =  0.15869565217391304\n",
      "Accuracy = 84.1304% (1161/1380) (classification)\n",
      "MSE =  0.15869565217391304\n",
      "Accuracy = 84.1304% (1161/1380) (classification)\n",
      "MSE =  0.15869565217391304\n"
     ]
    }
   ],
   "source": [
    "ranges = np.arange(0.1,100,1)\n",
    "len(ranges)\n",
    "accuracy_Array = []\n",
    "mse_array = []\n",
    "prob  = svm_problem(Y_train, x, isKernel=True)\n",
    "for i in ranges:\n",
    "    param = svm_parameter('-c '+str(i))\n",
    "    m = svm_train(prob, param)\n",
    "    p_label, p_acc, p_val = svm_predict(Y_test, x_test, m)\n",
    "    ACC, MSE, SCC = evaluations(Y_test, p_label)\n",
    "    print('MSE = ', MSE)\n",
    "    accuracy_Array.append(ACC)\n",
    "    mse_array.append(MSE)"
   ]
  },
  {
   "cell_type": "markdown",
   "metadata": {},
   "source": [
    "### Plot Accuracy and MSE outputs"
   ]
  },
  {
   "cell_type": "code",
   "execution_count": 7,
   "metadata": {},
   "outputs": [
    {
     "data": {
      "text/plain": [
       "<function matplotlib.pyplot.show(*args, **kw)>"
      ]
     },
     "execution_count": 7,
     "metadata": {},
     "output_type": "execute_result"
    },
    {
     "data": {
      "image/png": "[encoded data removed]",
      "text/plain": [
       "<Figure size 720x432 with 1 Axes>"
      ]
     },
     "metadata": {
      "needs_background": "light"
     },
     "output_type": "display_data"
    },
    {
     "data": {
      "image/png": "[encoded data removed]",
      "text/plain": [
       "<Figure size 720x432 with 1 Axes>"
      ]
     },
     "metadata": {
      "needs_background": "light"
     },
     "output_type": "display_data"
    }
   ],
   "source": [
    "plt.figure(figsize=(10,6))\n",
    "plt.plot(ranges, accuracy_Array, 'bs-')\n",
    "plt.title('Accuracy of the model')\n",
    "plt.xlabel('C values')\n",
    "plt.ylabel('Accuracy')\n",
    "plt.show\n",
    "\n",
    "plt.figure(figsize=(10,6))\n",
    "plt.plot(ranges, mse_array, 'go-')\n",
    "plt.title('Loss of the model')\n",
    "plt.xlabel('C values')\n",
    "plt.ylabel('Loss values')\n",
    "plt.show"
   ]
  },
  {
   "cell_type": "code",
   "execution_count": 8,
   "metadata": {},
   "outputs": [
    {
     "name": "stdout",
     "output_type": "stream",
     "text": [
      "              precision    recall  f1-score   support\n",
      "\n",
      "         ham       0.89      0.84      0.87       850\n",
      "        spam       0.77      0.84      0.80       530\n",
      "\n",
      "    accuracy                           0.84      1380\n",
      "   macro avg       0.83      0.84      0.83      1380\n",
      "weighted avg       0.85      0.84      0.84      1380\n",
      "\n"
     ]
    }
   ],
   "source": [
    "target_names = ['ham', 'spam']\n",
    "print(classification_report(Y_test, p_label, target_names=target_names))"
   ]
  },
  {
   "cell_type": "markdown",
   "metadata": {},
   "source": [
    "<h4 style=\"font-size:2em;color:#2467C0\">B. Pre-processed a dataset and learn SVM</h4>\n",
    "<br>"
   ]
  },
  {
   "cell_type": "code",
   "execution_count": 9,
   "metadata": {},
   "outputs": [
    {
     "name": "stdout",
     "output_type": "stream",
     "text": [
      "  label                                            message\n",
      "0   ham  Go until jurong point, crazy.. Available only ...\n",
      "1   ham                      Ok lar... Joking wif u oni...\n",
      "2  spam  Free entry in 2 a wkly comp to win FA Cup fina...\n",
      "3   ham  U dun say so early hor... U c already then say...\n",
      "4   ham  Nah I don't think he goes to usf, he lives aro...\n"
     ]
    }
   ],
   "source": [
    "messages = pd.read_csv('smsspamcollection/SMSSpamCollection', sep='\\t', names=[\"label\", \"message\"])\n",
    "print(messages.head())"
   ]
  },
  {
   "cell_type": "code",
   "execution_count": 10,
   "metadata": {},
   "outputs": [
    {
     "data": {
      "text/html": [
       "<div>\n",
       "<style scoped>\n",
       "    .dataframe tbody tr th:only-of-type {\n",
       "        vertical-align: middle;\n",
       "    }\n",
       "\n",
       "    .dataframe tbody tr th {\n",
       "        vertical-align: top;\n",
       "    }\n",
       "\n",
       "    .dataframe thead tr th {\n",
       "        text-align: left;\n",
       "    }\n",
       "\n",
       "    .dataframe thead tr:last-of-type th {\n",
       "        text-align: right;\n",
       "    }\n",
       "</style>\n",
       "<table border=\"1\" class=\"dataframe\">\n",
       "  <thead>\n",
       "    <tr>\n",
       "      <th></th>\n",
       "      <th colspan=\"4\" halign=\"left\">message</th>\n",
       "    </tr>\n",
       "    <tr>\n",
       "      <th></th>\n",
       "      <th>count</th>\n",
       "      <th>unique</th>\n",
       "      <th>top</th>\n",
       "      <th>freq</th>\n",
       "    </tr>\n",
       "    <tr>\n",
       "      <th>label</th>\n",
       "      <th></th>\n",
       "      <th></th>\n",
       "      <th></th>\n",
       "      <th></th>\n",
       "    </tr>\n",
       "  </thead>\n",
       "  <tbody>\n",
       "    <tr>\n",
       "      <th>ham</th>\n",
       "      <td>4825</td>\n",
       "      <td>4516</td>\n",
       "      <td>Sorry, I'll call later</td>\n",
       "      <td>30</td>\n",
       "    </tr>\n",
       "    <tr>\n",
       "      <th>spam</th>\n",
       "      <td>747</td>\n",
       "      <td>653</td>\n",
       "      <td>Please call our customer service representativ...</td>\n",
       "      <td>4</td>\n",
       "    </tr>\n",
       "  </tbody>\n",
       "</table>\n",
       "</div>"
      ],
      "text/plain": [
       "      message                                                               \n",
       "        count unique                                                top freq\n",
       "label                                                                       \n",
       "ham      4825   4516                             Sorry, I'll call later   30\n",
       "spam      747    653  Please call our customer service representativ...    4"
      ]
     },
     "execution_count": 10,
     "metadata": {},
     "output_type": "execute_result"
    }
   ],
   "source": [
    "messages.groupby('label').describe()"
   ]
  },
  {
   "cell_type": "code",
   "execution_count": 11,
   "metadata": {},
   "outputs": [
    {
     "name": "stdout",
     "output_type": "stream",
     "text": [
      "  label                                            message  length\n",
      "0   ham  Go until jurong point, crazy.. Available only ...     111\n",
      "1   ham                      Ok lar... Joking wif u oni...      29\n",
      "2  spam  Free entry in 2 a wkly comp to win FA Cup fina...     155\n",
      "3   ham  U dun say so early hor... U c already then say...      49\n",
      "4   ham  Nah I don't think he goes to usf, he lives aro...      61\n"
     ]
    }
   ],
   "source": [
    "messages['length'] = messages['message'].map(lambda text: len(text))\n",
    "print(messages.head())\n"
   ]
  },
  {
   "cell_type": "code",
   "execution_count": 12,
   "metadata": {},
   "outputs": [
    {
     "data": {
      "text/plain": [
       "0    go until jurong point, crazy.. available only ...\n",
       "1                        ok lar... joking wif u oni...\n",
       "2    free entry in 2 a wkly comp to win fa cup fina...\n",
       "3    u dun say so early hor... u c already then say...\n",
       "4    nah i don't think he goes to usf, he lives aro...\n",
       "Name: message, dtype: object"
      ]
     },
     "execution_count": 12,
     "metadata": {},
     "output_type": "execute_result"
    }
   ],
   "source": [
    "# Lower case for all the words\n",
    "messages['message'] = messages['message'].map(lambda x: x.lower())\n",
    "messages['message'].head()"
   ]
  },
  {
   "cell_type": "code",
   "execution_count": 13,
   "metadata": {},
   "outputs": [
    {
     "data": {
      "text/plain": [
       "0    go until jurong point crazy available only in ...\n",
       "1                              ok lar joking wif u oni\n",
       "2    free entry in 2 a wkly comp to win fa cup fina...\n",
       "3          u dun say so early hor u c already then say\n",
       "4    nah i dont think he goes to usf he lives aroun...\n",
       "Name: message, dtype: object"
      ]
     },
     "execution_count": 13,
     "metadata": {},
     "output_type": "execute_result"
    }
   ],
   "source": [
    "# Erasing punctuation of the strings\n",
    "messages[\"message\"] = messages['message'].str.replace('[^\\w\\s]','')\n",
    "messages[\"message\"].head()"
   ]
  },
  {
   "cell_type": "markdown",
   "metadata": {},
   "source": [
    "### Streamline workload with pipeline"
   ]
  },
  {
   "cell_type": "code",
   "execution_count": 14,
   "metadata": {},
   "outputs": [],
   "source": [
    "pipeline = Pipeline([\n",
    "    ('vect',CountVectorizer()),\n",
    "    ('tfidf',TfidfTransformer()),\n",
    "    ('SVM',SVC())\n",
    "])"
   ]
  },
  {
   "cell_type": "markdown",
   "metadata": {},
   "source": [
    "### Slit dataset into train and test"
   ]
  },
  {
   "cell_type": "code",
   "execution_count": 15,
   "metadata": {},
   "outputs": [
    {
     "name": "stdout",
     "output_type": "stream",
     "text": [
      "Original set 5572 observations\n",
      "Training set 3900 observations\n",
      "Testing set 1672 observations\n"
     ]
    }
   ],
   "source": [
    "# Splitting into Train and Test sets.\n",
    "from sklearn.model_selection import train_test_split\n",
    "X_train, X_test, y_train, y_test = train_test_split(messages['message'], messages['label'], test_size = 0.3, random_state = 1)\n",
    "#X_train, X_test, y_train, y_test = train_test_split(messages['message'], messages['label'], test_size = 0.1, random_state = 1)\n",
    "print(\"Original set\", messages.shape[0], \"observations\")\n",
    "print (\"Training set\", X_train.shape[0], \"observations\")\n",
    "print (\"Testing set\", X_test.shape[0], \"observations\")\n"
   ]
  },
  {
   "cell_type": "markdown",
   "metadata": {},
   "source": [
    "### Parameters to run into the model"
   ]
  },
  {
   "cell_type": "code",
   "execution_count": 16,
   "metadata": {},
   "outputs": [
    {
     "name": "stdout",
     "output_type": "stream",
     "text": [
      "SVM__kernel | CV: [linear, rbf] \n",
      " C parameters | CV: [0.0001,0.001,0.1,1,10,50,100] \n",
      " Gama parameters | CV: [0.1,0.01, 00.1]\n"
     ]
    }
   ],
   "source": [
    "ranges = np.arange(0.1,20,1)\n",
    "parameters = {'SVM__kernel':['linear', 'rbf'],'SVM__C':[0.0001,0.001,0.1,10,50,100], 'SVM__gamma':[0.1,0.01, 0.001]}\n",
    "\n",
    "print('SVM__kernel | CV: [linear, rbf]','\\n', 'C parameters | CV: [0.0001,0.001,0.1,1,10,50,100]','\\n','Gama parameters | CV: [0.1,0.01, 00.1]' )"
   ]
  },
  {
   "cell_type": "markdown",
   "metadata": {},
   "source": [
    "### Cross Validation over parameters previously stated"
   ]
  },
  {
   "cell_type": "code",
   "execution_count": 17,
   "metadata": {},
   "outputs": [],
   "source": [
    "grid = GridSearchCV(pipeline, param_grid=parameters, cv=5)"
   ]
  },
  {
   "cell_type": "code",
   "execution_count": 18,
   "metadata": {},
   "outputs": [
    {
     "name": "stdout",
     "output_type": "stream",
     "text": [
      "Best parameter | Training (CV score=0.984):\n",
      "{'SVM__C': 100, 'SVM__gamma': 0.01, 'SVM__kernel': 'rbf'}\n",
      "Test score = 0.98\n"
     ]
    }
   ],
   "source": [
    "# Fit of the trainin\n",
    "grid.fit(X_train, y_train)\n",
    "y_hat =grid.fit(X_train, y_train)\n",
    "print(\"Best parameter | Training (CV score=%0.3f):\" % grid.best_score_)\n",
    "print(grid.best_params_)\n",
    "print(\"Test score = %3.2f\" %(grid.score(X_test,y_test)))"
   ]
  },
  {
   "cell_type": "markdown",
   "metadata": {},
   "source": [
    "### Plot of the relationship between parameters"
   ]
  },
  {
   "cell_type": "code",
   "execution_count": 19,
   "metadata": {},
   "outputs": [
    {
     "data": {
      "image/png": "[encoded data removed]",
      "text/plain": [
       "<Figure size 720x432 with 1 Axes>"
      ]
     },
     "metadata": {
      "needs_background": "light"
     },
     "output_type": "display_data"
    }
   ],
   "source": [
    "def plot_results(index='SVM__C', columns='SVM__gamma'):\n",
    "    \"\"\"Select two hyperparameters from which we plot the fluctuations\"\"\"\n",
    "    index = 'param_' + index\n",
    "    columns = 'param_' + columns\n",
    "\n",
    "    df = pd.DataFrame(grid.cv_results_)\n",
    "\n",
    "    other = [c for c in df.columns if c[:6] == 'param_']\n",
    "    other.remove(index)\n",
    "    other.remove(columns)\n",
    "    for col in other:\n",
    "        df = df[df[col] == grid.best_params_[col[6:]]]\n",
    "\n",
    "    table_mean = df.pivot_table(index=index, columns=columns,\n",
    "                                values=['mean_test_score'])\n",
    "    table_std = df.pivot_table(index=index, columns=columns,\n",
    "                               values=['std_test_score'])\n",
    "\n",
    "    plt.figure(figsize=(10,6))\n",
    "    ax = plt.gca()\n",
    "    for col_mean, col_std in zip(table_mean.columns, table_std.columns):\n",
    "        table_mean[col_mean].plot(ax=ax, yerr=table_std[col_std], marker='o',\n",
    "                                  label=col_mean)\n",
    "    plt.title('Grid-search results')\n",
    "    plt.ylabel('Gamma')\n",
    "    plt.legend(title=table_mean.columns.names)\n",
    "    plt.show()\n",
    "\n",
    "\n",
    "plot_results(index='SVM__C', columns='SVM__gamma')\n",
    "\n",
    "# SOURCE = []"
   ]
  },
  {
   "cell_type": "markdown",
   "metadata": {},
   "source": [
    "### Run the training and test with the optimal values"
   ]
  },
  {
   "cell_type": "code",
   "execution_count": 20,
   "metadata": {},
   "outputs": [
    {
     "name": "stdout",
     "output_type": "stream",
     "text": [
      "              precision    recall  f1-score   support\n",
      "\n",
      "         ham       0.98      1.00      0.99      1442\n",
      "        spam       0.98      0.88      0.93       230\n",
      "\n",
      "    accuracy                           0.98      1672\n",
      "   macro avg       0.98      0.94      0.96      1672\n",
      "weighted avg       0.98      0.98      0.98      1672\n",
      "\n",
      "Accuracy = 84.1304% (1161/1380) (classification)\n"
     ]
    },
    {
     "data": {
      "text/html": [
       "<div>\n",
       "<style scoped>\n",
       "    .dataframe tbody tr th:only-of-type {\n",
       "        vertical-align: middle;\n",
       "    }\n",
       "\n",
       "    .dataframe tbody tr th {\n",
       "        vertical-align: top;\n",
       "    }\n",
       "\n",
       "    .dataframe thead th {\n",
       "        text-align: right;\n",
       "    }\n",
       "</style>\n",
       "<table border=\"1\" class=\"dataframe\">\n",
       "  <thead>\n",
       "    <tr style=\"text-align: right;\">\n",
       "      <th></th>\n",
       "      <th>Ham</th>\n",
       "      <th>Spam</th>\n",
       "    </tr>\n",
       "  </thead>\n",
       "  <tbody>\n",
       "    <tr>\n",
       "      <th>Predicted Ham</th>\n",
       "      <td>1438</td>\n",
       "      <td>4</td>\n",
       "    </tr>\n",
       "    <tr>\n",
       "      <th>Predicted Spam</th>\n",
       "      <td>27</td>\n",
       "      <td>203</td>\n",
       "    </tr>\n",
       "  </tbody>\n",
       "</table>\n",
       "</div>"
      ],
      "text/plain": [
       "                 Ham  Spam\n",
       "Predicted Ham   1438     4\n",
       "Predicted Spam    27   203"
      ]
     },
     "execution_count": 20,
     "metadata": {},
     "output_type": "execute_result"
    }
   ],
   "source": [
    "parameters = {'SVM__kernel':['rbf'],'SVM__C':[100], 'SVM__gamma':[0.01]}\n",
    "grid = GridSearchCV(pipeline, param_grid=parameters, cv=5)\n",
    "grid.fit(X_train, y_train)\n",
    "\n",
    "y_true, y_pred = y_test, grid.predict(X_test)\n",
    "print(classification_report(y_true, y_pred))\n",
    "p_label, p_acc, p_val = svm_predict(Y_test, x_test, m)\n",
    "ACC, MSE, SCC = evaluations(Y_test, p_label)\n",
    "cm = confusion_matrix(y_test, y_pred)\n",
    "df = pd.DataFrame(cm)\n",
    "df = df.rename(columns={0: 'Ham', 1: 'Spam'}, index={0: 'Predicted Ham', 1: 'Predicted Spam'})\n",
    "df"
   ]
  },
  {
   "cell_type": "code",
   "execution_count": 21,
   "metadata": {},
   "outputs": [
    {
     "data": {
      "image/png": "[encoded data removed]",
      "text/plain": [
       "<Figure size 288x288 with 2 Axes>"
      ]
     },
     "metadata": {
      "needs_background": "light"
     },
     "output_type": "display_data"
    }
   ],
   "source": [
    "plt.matshow(cm)\n",
    "plt.title('Confusion matrix')\n",
    "plt.colorbar()\n",
    "plt.ylabel('True label')\n",
    "plt.xlabel('Predicted label')\n",
    "plt.show()"
   ]
  },
  {
   "cell_type": "markdown",
   "metadata": {},
   "source": [
    "<h3 style=\"font-size:2em;color:#ff4411\">2. Compare SVM based spam filter with another model</h3>"
   ]
  },
  {
   "cell_type": "markdown",
   "metadata": {},
   "source": [
    "### Streamline workload with pipeline"
   ]
  },
  {
   "cell_type": "code",
   "execution_count": 22,
   "metadata": {},
   "outputs": [],
   "source": [
    "logreg=LogisticRegression()\n",
    "pipeline_lg = Pipeline([\n",
    "    ('vect',CountVectorizer()),\n",
    "    ('tfidf',TfidfTransformer()),\n",
    "    ('clf',logreg)\n",
    "])"
   ]
  },
  {
   "cell_type": "markdown",
   "metadata": {},
   "source": [
    "### Parameters to run into the model"
   ]
  },
  {
   "cell_type": "code",
   "execution_count": 23,
   "metadata": {},
   "outputs": [],
   "source": [
    "clf__C=[0.0001,0.001,0.1,10,50,100]\n",
    "parameter_lg = {'clf__C':[0.0001,0.001,0.1,10,50,100]}"
   ]
  },
  {
   "cell_type": "markdown",
   "metadata": {},
   "source": [
    "### Cross Validation over parameters previously stated"
   ]
  },
  {
   "cell_type": "code",
   "execution_count": 24,
   "metadata": {},
   "outputs": [],
   "source": [
    "grid_lg = GridSearchCV(pipeline_lg, param_grid=parameter_lg, cv=5)"
   ]
  },
  {
   "cell_type": "code",
   "execution_count": 25,
   "metadata": {},
   "outputs": [
    {
     "name": "stderr",
     "output_type": "stream",
     "text": [
      "/usr/local/lib/python3.7/site-packages/sklearn/linear_model/logistic.py:432: FutureWarning: Default solver will be changed to 'lbfgs' in 0.22. Specify a solver to silence this warning.\n",
      "  FutureWarning)\n"
     ]
    },
    {
     "name": "stdout",
     "output_type": "stream",
     "text": [
      "Best parameter | Training (CV score=0.981):\n",
      "{'clf__C': 100}\n",
      "Test score = 0.98\n"
     ]
    }
   ],
   "source": [
    "# Fit of the trainin\n",
    "grid_lg.fit(X_train, y_train)\n",
    "print(\"Best parameter | Training (CV score=%0.3f):\" % grid_lg.best_score_)\n",
    "print(grid_lg.best_params_)\n",
    "print(\"Test score = %3.2f\" %(grid_lg.score(X_test,y_test)))"
   ]
  },
  {
   "cell_type": "markdown",
   "metadata": {},
   "source": [
    "### Run the training and test with the optimal values"
   ]
  },
  {
   "cell_type": "code",
   "execution_count": 26,
   "metadata": {},
   "outputs": [
    {
     "name": "stderr",
     "output_type": "stream",
     "text": [
      "/usr/local/lib/python3.7/site-packages/sklearn/linear_model/logistic.py:432: FutureWarning: Default solver will be changed to 'lbfgs' in 0.22. Specify a solver to silence this warning.\n",
      "  FutureWarning)\n"
     ]
    },
    {
     "name": "stdout",
     "output_type": "stream",
     "text": [
      "              precision    recall  f1-score   support\n",
      "\n",
      "         ham       0.98      1.00      0.99      1442\n",
      "        spam       0.98      0.89      0.93       230\n",
      "\n",
      "    accuracy                           0.98      1672\n",
      "   macro avg       0.98      0.94      0.96      1672\n",
      "weighted avg       0.98      0.98      0.98      1672\n",
      "\n"
     ]
    },
    {
     "data": {
      "text/html": [
       "<div>\n",
       "<style scoped>\n",
       "    .dataframe tbody tr th:only-of-type {\n",
       "        vertical-align: middle;\n",
       "    }\n",
       "\n",
       "    .dataframe tbody tr th {\n",
       "        vertical-align: top;\n",
       "    }\n",
       "\n",
       "    .dataframe thead th {\n",
       "        text-align: right;\n",
       "    }\n",
       "</style>\n",
       "<table border=\"1\" class=\"dataframe\">\n",
       "  <thead>\n",
       "    <tr style=\"text-align: right;\">\n",
       "      <th></th>\n",
       "      <th>Ham</th>\n",
       "      <th>Spam</th>\n",
       "    </tr>\n",
       "  </thead>\n",
       "  <tbody>\n",
       "    <tr>\n",
       "      <th>Predicted Ham</th>\n",
       "      <td>1437</td>\n",
       "      <td>5</td>\n",
       "    </tr>\n",
       "    <tr>\n",
       "      <th>Predicted Spam</th>\n",
       "      <td>26</td>\n",
       "      <td>204</td>\n",
       "    </tr>\n",
       "  </tbody>\n",
       "</table>\n",
       "</div>"
      ],
      "text/plain": [
       "                 Ham  Spam\n",
       "Predicted Ham   1437     5\n",
       "Predicted Spam    26   204"
      ]
     },
     "execution_count": 26,
     "metadata": {},
     "output_type": "execute_result"
    }
   ],
   "source": [
    "parameters1 = {'clf__C':[100]}\n",
    "grid_lg1 = GridSearchCV(pipeline_lg, param_grid=parameters1, cv=5)\n",
    "grid_lg1.fit(X_train, y_train)\n",
    "y_true, y_pred = y_test, grid_lg1.predict(X_test)\n",
    "print(classification_report(y_true, y_pred))\n",
    "cm = confusion_matrix(y_test, y_pred)\n",
    "df = pd.DataFrame(cm)\n",
    "df = df.rename(columns={0: 'Ham', 1: 'Spam'}, index={0: 'Predicted Ham', 1: 'Predicted Spam'})\n",
    "df"
   ]
  },
  {
   "cell_type": "code",
   "execution_count": 27,
   "metadata": {},
   "outputs": [
    {
     "data": {
      "image/png": "[encoded data removed]",
      "text/plain": [
       "<Figure size 288x288 with 2 Axes>"
      ]
     },
     "metadata": {
      "needs_background": "light"
     },
     "output_type": "display_data"
    }
   ],
   "source": [
    "plt.matshow(cm,fignum= 1)\n",
    "plt.title('Confusion matrix')\n",
    "plt.colorbar()\n",
    "plt.ylabel('True label')\n",
    "plt.xlabel('Predicted label')\n",
    "plt.show()"
   ]
  },
  {
   "cell_type": "markdown",
   "metadata": {},
   "source": [
    "<h4 style=\"font-size:2em;color:#2467C0\">Conclusions</h4>\n",
    "<br>"
   ]
  },
  {
   "cell_type": "markdown",
   "metadata": {},
   "source": [
    " <ol>\n",
    "     <li>The test score does not change in the comparison between the SVM and Logistic models.</li><br>\n",
    "     <li>Regarding to the accuracy, there is no big difference on the outputs considering the confusion matrix and table the SVM has a lightly improvement against the Logistic Model.</li><br>\n",
    "    <li>The dataset structure may be influencing the similarity between the models. Therefore, it is not possible to make conclusions based on the information found. </li> <br>\n",
    "    <li>The distribution in train and test dataset influences as well the accuracy for each model.</li><br>\n",
    "     <li>The kernel used in SVM plays a major role: it transforms the data for solving complex problems.</li><br>\n",
    "\n",
    "      \n",
    "  "
   ]
  },
  {
   "cell_type": "markdown",
   "metadata": {},
   "source": [
    "<h3 style=\"font-size:2em;color:#ff4411\">3. Bibliography</h3>"
   ]
  },
  {
   "cell_type": "markdown",
   "metadata": {},
   "source": [
    "> https://www.kaggle.com/darshnaik/sms-spam-or-ham\n",
    "\n",
    "> https://etav.github.io/projects/spam_message_classifier_naive_bayes.html\n",
    "\n",
    "> https://radimrehurek.com/data_science_python/\n",
    "\n",
    "> https://www.kaggle.com/darshnaik/sms-spam-or-ham\n",
    "\n",
    "> https://towardsdatascience.com/a-simple-example-of-pipeline-in-machine-learning-with-scikit-learn-e726ffbb6976\n",
    "\n",
    "> https://pactools.github.io/auto_examples/plot_grid_search.html\n",
    "\n",
    "> https://blancas.io/sklearn-evaluation/api/plot.html"
   ]
  }
 ],
 "metadata": {
  "kernelspec": {
   "display_name": "Python 3",
   "language": "python",
   "name": "python3"
  },
  "language_info": {
   "codemirror_mode": {
    "name": "ipython",
    "version": 3
   },
   "file_extension": ".py",
   "mimetype": "text/x-python",
   "name": "python",
   "nbconvert_exporter": "python",
   "pygments_lexer": "ipython3",
   "version": "3.7.5"
  }
 },
 "nbformat": 4,
 "nbformat_minor": 2
}
